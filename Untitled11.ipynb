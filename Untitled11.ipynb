{
  "nbformat": 4,
  "nbformat_minor": 0,
  "metadata": {
    "colab": {
      "provenance": []
    },
    "kernelspec": {
      "name": "python3",
      "display_name": "Python 3"
    },
    "language_info": {
      "name": "python"
    }
  },
  "cells": [
    {
      "cell_type": "code",
      "execution_count": null,
      "metadata": {
        "colab": {
          "base_uri": "https://localhost:8080/"
        },
        "id": "At-LKhqVK4fF",
        "outputId": "c8f5b0e4-ca96-4bb1-d1c7-4483c0fe2a12"
      },
      "outputs": [
        {
          "output_type": "stream",
          "name": "stdout",
          "text": [
            "==============================\n",
            "Program Inventory Manajement\n",
            "==============================\n",
            "1. Input Data\n",
            "2. Menampilkan Barang\n"
          ]
        }
      ],
      "source": [
        "'''\n",
        "Nama : Ari Budianto\n",
        "Bacth : BSD-1\n",
        "\n",
        "'''\n",
        "\n",
        "\n",
        "##membuat class\n",
        "class StokSupermarket:\n",
        "    def __init__(self):\n",
        "        self.data = []\n",
        "\n",
        "#menu penginputan\n",
        "\n",
        "    def input_data(self):\n",
        "        while True:\n",
        "            print(\"Masukkan data barang (atau ketik 'EXIT' untuk kembali ke menu utama):\")\n",
        "            nama_barang = input(\"Masaukan Nama Barang: \")\n",
        "            if nama_barang.upper() == \"EXIT\":\n",
        "                break\n",
        "            kategori_barang = input(\"Masukan Kategori Barang: \")\n",
        "            harga_barang = float(input(\"Harga barang: \"))\n",
        "            print('='*30)\n",
        "            print('Data Inventory')\n",
        "            print('='*30)\n",
        "            self.data.extend([nama_barang, kategori_barang, harga_barang])\n",
        "\n",
        "##menampilkan inventory yang sudah di input serta menampilkan  pesan tidak ada\n",
        "    def tampilkan_inventory(self):\n",
        "        if not self.data:\n",
        "            print(\"Data belum ada.\")\n",
        "        else:\n",
        "            print(\"Inventory stock barang yang tersedia:\")\n",
        "            for i in range(0, len(self.data), 3):\n",
        "                nama_barang, kategori_barang, harga_barang = self.data[i], self.data[i + 1], self.data[i + 2]\n",
        "                print(f\"Nama Barang: {nama_barang}, Kategori: {kategori_barang}, Harga: {harga_barang}\")\n",
        "\n",
        " ## perulangan ketika input data\n",
        "def main():\n",
        "    supermarket = StokSupermarket()\n",
        "\n",
        "    while True:\n",
        "        print('='*30)\n",
        "        print('Program Inventory Manajement')\n",
        "        print('='*30)\n",
        "        print(\"1. Input Data\")\n",
        "        print(\"2. Menampilkan Barang\")\n",
        "        choice = input(\"Pilih Menu atau keluar: \")\n",
        "        print('='*30)\n",
        "        print('Data Inventory')\n",
        "        print('='*30)\n",
        "\n",
        "        if choice == '1':\n",
        "            supermarket.input_data()\n",
        "        elif choice == '2':\n",
        "            supermarket.tampilkan_inventory()\n",
        "        elif choice.upper() == 'EXIT':\n",
        "            print(\"Terima kasih! Sampai jumpa lagi sudah berbelanja.\")\n",
        "            break\n",
        "        else:\n",
        "            print(\"Pilihan tidak valid. Silakan coba lagi.\")\n",
        "\n",
        "if __name__ == \"__main__\":\n",
        "    main()\n"
      ]
    }
  ]
}