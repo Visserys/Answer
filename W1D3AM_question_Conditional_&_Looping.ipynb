{
  "cells": [
    {
      "cell_type": "markdown",
      "metadata": {
        "id": "f3fwm9AXSf4W"
      },
      "source": [
        "# LATIHAN - P0W1D3AM : Conditional & Looping"
      ]
    },
    {
      "cell_type": "markdown",
      "metadata": {
        "id": "KwQ65oWbSk3E"
      },
      "source": [
        "**NOMOR 1**\n",
        "\n",
        "Buatlah sebuah kondisi untuk mengecek apakah variabel `a` **lebih kecil** dari variabel `b` berdasarkan nilai dibawah ini :\n",
        "* `a` = 100\n",
        "* `b` = 200\n",
        "\n",
        "Jika `True` maka tulis/cetak `a lebih kecil dari b`"
      ]
    },
    {
      "cell_type": "code",
      "source": [
        "a = 100\n",
        "b = 200\n",
        "\n",
        "if a < b:\n",
        "  print(\"a lebih kecil dr dengan b\")"
      ],
      "metadata": {
        "id": "MkoDKXN9L9CK",
        "outputId": "67545b4f-c07d-4445-e45a-efed17e58a44",
        "colab": {
          "base_uri": "https://localhost:8080/"
        }
      },
      "execution_count": 47,
      "outputs": [
        {
          "output_type": "stream",
          "name": "stdout",
          "text": [
            "a lebih kecil dr dengan b\n"
          ]
        }
      ]
    },
    {
      "cell_type": "markdown",
      "metadata": {
        "id": "3VTram85TxLA"
      },
      "source": [
        "**NOMOR 2**\n",
        "\n",
        "Buatlah sebuah kondisi untuk mengecek apakah variabel `a` **lebih besar** dari variabel `b` berdasarkan nilai dibawah ini :\n",
        "* `a` = 100\n",
        "* `b` = 200\n",
        "\n",
        "Jika `True` maka tulis/cetak `a lebih besar dari b`"
      ]
    },
    {
      "cell_type": "code",
      "source": [
        "a = 100\n",
        "b = 200\n",
        "if a > b :\n",
        "  print('a lebih besar dari b')"
      ],
      "metadata": {
        "id": "XctYwgLYmb5M"
      },
      "execution_count": 46,
      "outputs": []
    },
    {
      "cell_type": "markdown",
      "metadata": {
        "id": "nJ04rhbDUDuI"
      },
      "source": [
        "**NOMOR 3**\n",
        "\n",
        "Buatlah sebuah kondisi untuk mengecek apakah variabel `a` **tidak sama dengan**  variabel `b` berdasarkan nilai dibawah ini :\n",
        "* `a` = `januari`\n",
        "* `b` = `februari`\n",
        "\n",
        "Jika `True` maka tulis/cetak `a tidak sama dengan b`\n",
        "\n",
        "Jika `False` maka tulis/cetak `a sama dengan b`"
      ]
    },
    {
      "cell_type": "code",
      "source": [
        "a = \"januari\"\n",
        "b = \"febuari\"\n",
        "if a != b:\n",
        "  print('a tidak sama dengan b')\n",
        "else :\n",
        "  print('a sama dengan b')"
      ],
      "metadata": {
        "id": "_PKKfqPymR84",
        "outputId": "89344d51-988b-4a1d-e2d7-3c990391166a",
        "colab": {
          "base_uri": "https://localhost:8080/"
        }
      },
      "execution_count": 42,
      "outputs": [
        {
          "output_type": "stream",
          "name": "stdout",
          "text": [
            "a tidak sama dengan b\n"
          ]
        }
      ]
    },
    {
      "cell_type": "markdown",
      "metadata": {
        "id": "bbHY6mLEfCtm"
      },
      "source": [
        "**NOMOR 4**\n",
        "\n",
        "Buatlah sebuah kondisi untuk mengecek apakah variabel `a` **sama dengan**  variabel `b` berdasarkan nilai dibawah ini :\n",
        "* `a` = 1000\n",
        "* `b` = 1000.0\n",
        "\n",
        "Jika `True` maka jangan menampilkan apapun\n",
        "\n",
        "Jika `False` maka tulis/cetak `a tidak sama dengan b`"
      ]
    },
    {
      "cell_type": "code",
      "source": [
        "a = 1000\n",
        "b = 1000.05\n",
        "if a == b:\n",
        "  pass\n",
        "else:\n",
        "  print(\"a tidak sama dengan b\")"
      ],
      "metadata": {
        "id": "EF1F66AFmKZE",
        "outputId": "66c80ce0-7114-4806-b10f-8945eb6667a1",
        "colab": {
          "base_uri": "https://localhost:8080/"
        }
      },
      "execution_count": 41,
      "outputs": [
        {
          "output_type": "stream",
          "name": "stdout",
          "text": [
            "a tidak sama dengan b\n"
          ]
        }
      ]
    },
    {
      "cell_type": "markdown",
      "metadata": {
        "id": "b_v1w6L-VsD8"
      },
      "source": [
        "**NOMOR 5**\n",
        "\n",
        "Buatlah sebuah kondisi untuk mengecek apakah variabel `a` **berbeda**  variabel `b` berdasarkan nilai dibawah ini :\n",
        "* `angka_ganjil` = `[1, 3, 5, 7]`\n",
        "* `angka_genap`  = `[2, 4, 6, 8]`\n",
        "\n",
        "Jika `True` maka tulis/cetak `angka_ganjil berbeda dengan angka_genap`\n",
        "\n",
        "Jika `False` maka tulis/cetak `angka_ganjil sama dengan angka_genap`"
      ]
    },
    {
      "cell_type": "code",
      "source": [
        "angka_ganjil = [1, 3, 5, 7]\n",
        "angka_genap = [2, 4, 6, 8]\n",
        "if angka_ganjil != angka_genap:\n",
        "  print('angka_ganjil berbeda dengan angka_genap')\n",
        "else :\n",
        "  print('angka_ganjil sama dengan angka_genap')"
      ],
      "metadata": {
        "id": "YNHQ_arkl0OQ",
        "outputId": "fa01b87f-36ec-4ee7-b15f-4842df733b9f",
        "colab": {
          "base_uri": "https://localhost:8080/"
        }
      },
      "execution_count": 40,
      "outputs": [
        {
          "output_type": "stream",
          "name": "stdout",
          "text": [
            "angka_ganjil berbeda dengan angka_genap\n"
          ]
        }
      ]
    },
    {
      "cell_type": "markdown",
      "metadata": {
        "id": "SYcUlu-Qch44"
      },
      "source": [
        "**NOMOR 6**\n",
        "\n",
        "Buatlah sebuah kondisi untuk mengecek apakah variabel-variabel dibawah ini mempunyai nilai atau tidak\n",
        "\n",
        "* `nama` = `budi`\n",
        "* `usia` = 20\n",
        "* `jenis_kelamin_pria` = True\n",
        "* `alamat` = `None`\n",
        "* `jumlah_motor` = 0\n",
        "* `punya_rumah` = `False`\n",
        "\n",
        "Jika True maka tulis/cetak `ada`\n",
        "\n",
        "Jika False maka tulis/cetak `tidak ada`"
      ]
    },
    {
      "cell_type": "code",
      "source": [
        "nama = 'budi'\n",
        "usia = 20\n",
        "jenis_kelamin_pria = True\n",
        "alamat = None\n",
        "jumlah_motor =0\n",
        "punya_rumah = False\n",
        "if nama:\n",
        "  print('ada')\n",
        "else:\n",
        "  print('tidak ada')\n",
        "if usia:\n",
        "  print('ada')\n",
        "else:\n",
        "  print('tidak ada')\n",
        "if jumlah_motor:\n",
        "  print('ada')\n",
        "else:\n",
        "  print('tidak ada')"
      ],
      "metadata": {
        "id": "_mExHW22kfJT",
        "outputId": "e583c281-33ca-4084-94e6-083dbeecc8ae",
        "colab": {
          "base_uri": "https://localhost:8080/"
        }
      },
      "execution_count": 33,
      "outputs": [
        {
          "output_type": "stream",
          "name": "stdout",
          "text": [
            "ada\n",
            "ada\n",
            "tidak ada\n"
          ]
        }
      ]
    },
    {
      "cell_type": "markdown",
      "metadata": {
        "id": "QAuu7AtZeHHo"
      },
      "source": [
        "**NOMOR 7**\n",
        "\n",
        "Buatlah sebuah kondisi untuk mengecek apakah variabel-variabel dibawah ini termasuk salah satu nilai dari variabel lain atau tidak\n",
        "\n",
        "* *`pendidikan` = `s1`* terhadap *`daftar_pendidikan` = ['s1', 's2', 's3']*\n",
        "* *`nama` = `budi`* terhadap *`nama_lengkap` = `budi kurniawan`*\n",
        "\n",
        "Jika True maka tulis/cetak `merupakan bagian`\n",
        "\n",
        "Jika False maka tulis/cetak `bukan merupakan bagian`"
      ]
    },
    {
      "cell_type": "code",
      "source": [
        "pendidikan = 's1'\n",
        "daftar_pendidikan = ['s1','s2','s3']\n",
        "if pendidikan in daftar_pendidikan :\n",
        "  print('merupakan bagian')\n",
        "else:\n",
        "   print('bukan merupakan bagian')"
      ],
      "metadata": {
        "id": "ai7dl3Psc6m9",
        "outputId": "9539262c-5ab0-44e5-a143-b79b91ff7ee7",
        "colab": {
          "base_uri": "https://localhost:8080/"
        }
      },
      "execution_count": 34,
      "outputs": [
        {
          "output_type": "stream",
          "name": "stdout",
          "text": [
            "merupakan bagian\n"
          ]
        }
      ]
    },
    {
      "cell_type": "markdown",
      "metadata": {
        "id": "xKB0rquQgyU1"
      },
      "source": [
        "**NOMOR 8 (IF ELIF)**\n",
        "\n",
        "Buatlah sebuah kondisi untuk mengecek hubungan dua variabel dibawah ini :\n",
        "\n",
        "* `a` = 100\n",
        "* `b` = 100\n",
        "\n",
        "Jika `a < b` maka tulis/cetak `a lebih kecil dari b`\n",
        "\n",
        "Jika `a > b` maka tulis/cetak `a lebih besar dari b`\n",
        "\n",
        "Selain kondisi diatas, maka tulis/cetak `a sama dengan b`"
      ]
    },
    {
      "cell_type": "code",
      "source": [
        "a = 100\n",
        "b = 100\n",
        "if a < b:\n",
        "  print('a lebih kecil dari b')\n",
        "elif a < b:\n",
        "  print('a lebih besar dari b')\n",
        "else :\n",
        "  print('a sama dengan  b')"
      ],
      "metadata": {
        "id": "9wDz1_dxkK0r",
        "outputId": "b71d45d9-0c0d-49c2-b90f-110d761bf7ba",
        "colab": {
          "base_uri": "https://localhost:8080/"
        }
      },
      "execution_count": 32,
      "outputs": [
        {
          "output_type": "stream",
          "name": "stdout",
          "text": [
            "a sama dengan  b\n"
          ]
        }
      ]
    },
    {
      "cell_type": "markdown",
      "metadata": {
        "id": "6-2lRRq0e0v2"
      },
      "source": [
        "**NOMOR 9 (NESTED IF)**\n",
        "\n",
        "Buatlah sebuah kondisi untuk memilih menu makanan dengan syarat :\n",
        "\n",
        "* Pilih `nasi goreng` jika uang yang dimiliki lebih dari sama dengan Rp 15.000,-\n",
        "* Pilih `ketoprak` jika uang yang dimiliki lebih dari sama dengan Rp 10.000 dan kurang dari Rp 15.000,-\n",
        "* Pilih `batagor` jika uang yang dimiliki lebih dari sama dengan Rp 5.000 dan kurang Rp 10.000,-\n",
        "* Pilih `es teh manis` jika uang yang dimiliki kurang dari Rp 5000"
      ]
    },
    {
      "cell_type": "code",
      "source": [
        "uang = 10000\n",
        "if uang >= 15000:\n",
        "  print('nasi goreng')\n",
        "elif uang >= 10000 and uang < 15000:\n",
        "  print('ketorprak')\n",
        "elif uang >= 5000 and uang < 10000:\n",
        "  print('batagor')\n",
        "else:\n",
        "  print('es teh manis')"
      ],
      "metadata": {
        "id": "zh4iY4lUbzNE",
        "outputId": "a314b411-ba19-43d4-b2bf-696ec91236f9",
        "colab": {
          "base_uri": "https://localhost:8080/"
        }
      },
      "execution_count": 4,
      "outputs": [
        {
          "output_type": "stream",
          "name": "stdout",
          "text": [
            "ketorprak\n"
          ]
        }
      ]
    },
    {
      "cell_type": "markdown",
      "metadata": {
        "id": "0LRQikHLhzxx"
      },
      "source": [
        "**NOMOR 10**\n",
        "\n",
        "Buatlah sebuah perulangan untuk mencetak/menulis kata `hello` sebanyak `5` kali."
      ]
    },
    {
      "cell_type": "code",
      "source": [
        "a = \"hello world\"\n",
        "for i in range(5):\n",
        "  print(\"hello world\")"
      ],
      "metadata": {
        "id": "_gauuuD4bPVD",
        "outputId": "0ef9ce33-a5fa-4568-be3c-685ff0748dce",
        "colab": {
          "base_uri": "https://localhost:8080/"
        }
      },
      "execution_count": 2,
      "outputs": [
        {
          "output_type": "stream",
          "name": "stdout",
          "text": [
            "hello world\n",
            "hello world\n",
            "hello world\n",
            "hello world\n",
            "hello world\n"
          ]
        }
      ]
    },
    {
      "cell_type": "code",
      "source": [
        "i = 0\n",
        "while i < 5:\n",
        "  print('hello')\n",
        "  i = i + 1"
      ],
      "metadata": {
        "id": "vYs19Jd3dIjY",
        "outputId": "5bd62394-d6a5-4f9d-8eff-476c327144e5",
        "colab": {
          "base_uri": "https://localhost:8080/"
        }
      },
      "execution_count": 6,
      "outputs": [
        {
          "output_type": "stream",
          "name": "stdout",
          "text": [
            "hello\n",
            "hello\n",
            "hello\n",
            "hello\n",
            "hello\n"
          ]
        }
      ]
    },
    {
      "cell_type": "markdown",
      "metadata": {
        "id": "q1u5JgNcjDER"
      },
      "source": [
        "**NOMOR 11**\n",
        "\n",
        "Buatlah sebuah perulangan untuk menampilkan angka dari `0` - `5`\n",
        "\n",
        "*Hasil : 0 1 2 3 4 5*"
      ]
    },
    {
      "cell_type": "code",
      "source": [
        "for i in range(6):\n",
        "  print(i, end=\" \")"
      ],
      "metadata": {
        "id": "YcHpVTE_eQgA",
        "outputId": "a78efef9-54e4-4802-8fca-26ce14396199",
        "colab": {
          "base_uri": "https://localhost:8080/"
        }
      },
      "execution_count": 9,
      "outputs": [
        {
          "output_type": "stream",
          "name": "stdout",
          "text": [
            "0 1 2 3 4 5 "
          ]
        }
      ]
    },
    {
      "cell_type": "markdown",
      "metadata": {
        "id": "1D-AQ-pij46e"
      },
      "source": [
        "**NOMOR 12**\n",
        "\n",
        "Buatlah sebuah perulangan untuk menampilkan angka dari `3` - `5`\n",
        "\n",
        "*Hasil : 3 4 5*"
      ]
    },
    {
      "cell_type": "code",
      "source": [
        "for i in range(3,6,1):\n",
        "  print(i, end=\" \")"
      ],
      "metadata": {
        "id": "YI2dE8b5e779",
        "outputId": "8bc3f648-714e-4239-a1d1-21ce59124a70",
        "colab": {
          "base_uri": "https://localhost:8080/"
        }
      },
      "execution_count": 31,
      "outputs": [
        {
          "output_type": "stream",
          "name": "stdout",
          "text": [
            "3 4 5 "
          ]
        }
      ]
    },
    {
      "cell_type": "markdown",
      "metadata": {
        "id": "uSEVraIukViN"
      },
      "source": [
        "**NOMOR 13**\n",
        "\n",
        "Buatlah sebuah perulangan untuk menampilkan angka dari `1` - `10` dengan jarak angka adalah `3`\n",
        "\n",
        "*Hasil : 1 4 7 10*"
      ]
    },
    {
      "cell_type": "code",
      "source": [
        "for i in range(1,11,3):\n",
        "  print(i, end=' ' )"
      ],
      "metadata": {
        "id": "vCboJQhlgfJr",
        "outputId": "e95a1dac-c63d-412e-cebb-314d121477d4",
        "colab": {
          "base_uri": "https://localhost:8080/"
        }
      },
      "execution_count": 13,
      "outputs": [
        {
          "output_type": "stream",
          "name": "stdout",
          "text": [
            "1 4 7 10 "
          ]
        }
      ]
    },
    {
      "cell_type": "markdown",
      "metadata": {
        "id": "DtDfto_5k75u"
      },
      "source": [
        "**NOMOR 14**\n",
        "\n",
        "Buatlah sebuah perulangan untuk menampilkan angka dari `1` - `10` dan berhenti dengan kondisi jika angka tersebut adalah `8`\n",
        "\n",
        "*Hasil : 1 2 3 4 5 6 7 8*"
      ]
    },
    {
      "cell_type": "code",
      "source": [
        "for i in range(1,9,1):\n",
        "  print(i, end=' ' )\n",
        "  if i == 8:\n",
        "    print(i)"
      ],
      "metadata": {
        "id": "xq-O1wqWgmz7",
        "outputId": "1c38d939-84bc-49f9-e773-27a9dd0856ce",
        "colab": {
          "base_uri": "https://localhost:8080/"
        }
      },
      "execution_count": 19,
      "outputs": [
        {
          "output_type": "stream",
          "name": "stdout",
          "text": [
            "1 2 3 4 5 6 7 8 8\n"
          ]
        }
      ]
    },
    {
      "cell_type": "markdown",
      "metadata": {
        "id": "xHUh5DxDmkjm"
      },
      "source": [
        "**NOMOR 15**\n",
        "\n",
        "Buatlah sebuah perulangan untuk menampilkan angka genap dari `1` - `10` dan angka tersebut kurang dari sama dengan 6\n",
        "\n",
        "*Hasil : 2 4 6*"
      ]
    },
    {
      "cell_type": "code",
      "source": [
        "for i in range(2,10,2):\n",
        "  print(i, end=' ' )\n",
        "  if i == 6:\n",
        "    break\n",
        ""
      ],
      "metadata": {
        "id": "xoBfHg0am-1K",
        "outputId": "7dcdb48d-1eeb-42c2-9b69-8dcee8de97d1",
        "colab": {
          "base_uri": "https://localhost:8080/"
        }
      },
      "execution_count": 61,
      "outputs": [
        {
          "output_type": "stream",
          "name": "stdout",
          "text": [
            "2 4 6 "
          ]
        }
      ]
    },
    {
      "cell_type": "markdown",
      "metadata": {
        "id": "eHuyyy7cmFTc"
      },
      "source": [
        "**NOMOR 16**\n",
        "\n",
        "Buatlah sebuah perulangan untuk menampilkan isi dari variabel list dibawah ini :\n",
        "\n",
        "* `daftar_nama` = `['anwar', 'budi', 'cecep', 'deny']`"
      ]
    },
    {
      "cell_type": "code",
      "source": [
        "daftar_nama = ['anwar', 'budi', 'cecep', 'deny']\n",
        "for i in daftar_nama:\n",
        "  print(i)\n",
        "  if i == 'cecep':\n",
        "    break\n",
        ""
      ],
      "metadata": {
        "id": "esEl4vpEh_9D",
        "outputId": "e0d5db39-b49a-48ef-90f4-73a593c6592f",
        "colab": {
          "base_uri": "https://localhost:8080/"
        }
      },
      "execution_count": 27,
      "outputs": [
        {
          "output_type": "stream",
          "name": "stdout",
          "text": [
            "anwar\n",
            "budi\n",
            "cecep\n"
          ]
        }
      ]
    }
  ],
  "metadata": {
    "colab": {
      "provenance": []
    },
    "kernelspec": {
      "display_name": "Python 3",
      "name": "python3"
    },
    "language_info": {
      "codemirror_mode": {
        "name": "ipython",
        "version": 3
      },
      "file_extension": ".py",
      "mimetype": "text/x-python",
      "name": "python",
      "nbconvert_exporter": "python",
      "pygments_lexer": "ipython3",
      "version": "3.10.9"
    }
  },
  "nbformat": 4,
  "nbformat_minor": 0
}