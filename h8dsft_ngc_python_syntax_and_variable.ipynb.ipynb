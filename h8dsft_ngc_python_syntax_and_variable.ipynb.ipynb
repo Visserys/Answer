{
  "nbformat": 4,
  "nbformat_minor": 0,
  "metadata": {
    "colab": {
      "provenance": []
    },
    "kernelspec": {
      "name": "python3",
      "display_name": "Python 3"
    },
    "language_info": {
      "name": "python"
    }
  },
  "cells": [
    {
      "cell_type": "markdown",
      "source": [
        "#Task 1\n",
        "## How many unique customer_id from above list?"
      ],
      "metadata": {
        "id": "vS4lIErXOXAh"
      }
    },
    {
      "cell_type": "code",
      "execution_count": 3,
      "metadata": {
        "id": "qjnPuLqzNQHS"
      },
      "outputs": [],
      "source": [
        "customer_id = ['B818', 'A461', 'A092', 'A082', 'B341', 'A005', 'A092', 'A461','B219', 'B904', 'A901', 'A083', 'B904', 'A092', 'B341', 'B821','B341', 'B821', 'B904', 'B818', 'A901', 'A083', 'B818', 'A082','B219', 'B219', 'A083', 'A901', 'A082', 'B341', 'B341', 'A083','A082', 'B219', 'B439', 'A461', 'A005', 'A901', 'B341', 'A082','A083', 'A461', 'A083', 'A901', 'A461', 'A083', 'A082', 'A083','B341', 'A901', 'A082', 'A461', 'B219', 'A083', 'B818', 'B821','A092', 'B341', 'A461', 'A092', 'A083', 'B821', 'A092']"
      ]
    },
    {
      "cell_type": "code",
      "source": [
        "cus_id= len(set(customer_id))\n",
        "cus_id"
      ],
      "metadata": {
        "colab": {
          "base_uri": "https://localhost:8080/"
        },
        "id": "dyHGng90N5CF",
        "outputId": "bf355791-cb77-495d-878a-58c08affd144"
      },
      "execution_count": 5,
      "outputs": [
        {
          "output_type": "execute_result",
          "data": {
            "text/plain": [
              "12"
            ]
          },
          "metadata": {},
          "execution_count": 5
        }
      ]
    },
    {
      "cell_type": "markdown",
      "source": [
        "# Task 2\n",
        "\n",
        "##Data = [1, 4, 9, 16, 25, 36, 49,  64, 81, 100]\n",
        "\n",
        "## Use indexing so you can get this output:\n",
        "###a.16\n",
        "###b.[36, 49, 64, 81]\n",
        "###c.[100, 81, 64, 49, 36, 25, 16, 9, 4, 1"
      ],
      "metadata": {
        "id": "8YYHeH2cPWsO"
      }
    },
    {
      "cell_type": "code",
      "source": [
        "data = [1, 4, 9, 16, 25, 36, 49,  64, 81, 100]\n",
        "print(data[3])\n",
        "print(data[5:9])\n",
        "data.reverse()\n",
        "print(f'{data}')\n"
      ],
      "metadata": {
        "colab": {
          "base_uri": "https://localhost:8080/"
        },
        "id": "zTt-qCuNO-jL",
        "outputId": "5dbcbf22-385e-496e-80cd-ffb432d9cf62"
      },
      "execution_count": 10,
      "outputs": [
        {
          "output_type": "stream",
          "name": "stdout",
          "text": [
            "16\n",
            "[36, 49, 64, 81]\n",
            "[100, 81, 64, 49, 36, 25, 16, 9, 4, 1]\n"
          ]
        }
      ]
    },
    {
      "cell_type": "markdown",
      "source": [
        "#Task #3\n",
        "## Given a dictionary of:provinsi =\n",
        "##{'Nanggroe Aceh Darussalam': 'Aceh','Sumatera Selatan': 'Palembang','Kalimantan Barat': 'Pontianak','Jawa Timur': 'Madiun','Sulawesi Selatan': 'Makassar','Maluku': 'Ambon'}\n",
        "##What python command can be use to:\n",
        "##a.Get list of keys available in dictionary\n",
        "##b.Change 'Jawa Timur' value from 'Madiun'  to 'Surabaya'\n"
      ],
      "metadata": {
        "id": "AbCZNih0TA9b"
      }
    },
    {
      "cell_type": "code",
      "source": [
        "provinsi = {'Nanggroe Aceh Darussalam': 'Aceh','Sumatera Selatan': 'Palembang','Kalimantan Barat': 'Pontianak','Jawa Timur': 'Madiun','Sulawesi Selatan': 'Makassar','Maluku': 'Ambon'}\n",
        "\n",
        "\n",
        "print(provinsi.keys())\n",
        "provinsi.update({'Jawa Timur':'Surabaya'})\n",
        "print(provinsi)\n"
      ],
      "metadata": {
        "colab": {
          "base_uri": "https://localhost:8080/"
        },
        "id": "UiEg0lWEVHQt",
        "outputId": "16c93a93-4f8f-4929-a285-7db6f7162fa2"
      },
      "execution_count": 31,
      "outputs": [
        {
          "output_type": "stream",
          "name": "stdout",
          "text": [
            "dict_keys(['Nanggroe Aceh Darussalam', 'Sumatera Selatan', 'Kalimantan Barat', 'Jawa Timur', 'Sulawesi Selatan', 'Maluku'])\n",
            "{'Nanggroe Aceh Darussalam': 'Aceh', 'Sumatera Selatan': 'Palembang', 'Kalimantan Barat': 'Pontianak', 'Jawa Timur': 'Surabaya', 'Sulawesi Selatan': 'Makassar', 'Maluku': 'Ambon'}\n"
          ]
        }
      ]
    },
    {
      "cell_type": "markdown",
      "source": [],
      "metadata": {
        "id": "26HTC_O9PWmG"
      }
    }
  ]
}